{
 "cells": [
  {
   "cell_type": "markdown",
   "id": "1ebb57fa",
   "metadata": {},
   "source": [
    "Install SimpleElastix and SimpleITK python module by the original tutorial  \n",
    "https://simpleelastix.readthedocs.io/GettingStarted.html"
   ]
  },
  {
   "cell_type": "code",
   "execution_count": 3,
   "id": "0afac3c4",
   "metadata": {},
   "outputs": [],
   "source": [
    "#import necessary packages\n",
    "import SimpleITK as sitk\n",
    "import matplotlib.pyplot as plt\n",
    "import os\n",
    "import numpy as np\n",
    "from skimage.io import imread, imsave\n",
    "from skimage.filters import threshold_li\n",
    "from skimage import img_as_ubyte"
   ]
  },
  {
   "cell_type": "code",
   "execution_count": 4,
   "id": "c1a761c9",
   "metadata": {},
   "outputs": [
    {
     "data": {
      "text/plain": [
       "(-0.5, 6479.5, 4546.5, -0.5)"
      ]
     },
     "execution_count": 4,
     "metadata": {},
     "output_type": "execute_result"
    },
    {
     "data": {
      "image/png": "[encoded data removed]",
      "text/plain": [
       "<Figure size 432x288 with 2 Axes>"
      ]
     },
     "metadata": {
      "needs_background": "light"
     },
     "output_type": "display_data"
    }
   ],
   "source": [
    "#convert CCFv3 template and C-FOS image into binary masks by scikit-image Li thresholding\n",
    "#https://scikit-image.org/docs/stable/auto_examples/developers/plot_threshold_li.html\n",
    "\n",
    "template = imread (\"./image_registration_demo/ref0607.tif\")\n",
    "C_FOS = imread (\"./image_registration_demo/cfos0044.tif\")\n",
    "\n",
    "template_thr = threshold_li(template)\n",
    "template_b = img_as_ubyte(template>template_thr)\n",
    "imsave(\"./image_registration_demo/ref_b0607.tif\", template_b)\n",
    "\n",
    "C_FOS_thr = threshold_li(C_FOS)\n",
    "C_FOS_b = img_as_ubyte(C_FOS>C_FOS_thr)\n",
    "imsave(\"./image_registration_demo/cfos_b0044.tif\", C_FOS_b)\n",
    "\n",
    "plt.subplot(1,2,1)\n",
    "plt.imshow(template_b)\n",
    "plt.title(\"CCFv3_template_b\")\n",
    "plt.axis('off')\n",
    "plt.subplot(1,2,2)\n",
    "plt.imshow(C_FOS_b)\n",
    "plt.title(\"C-FOS_b\")\n",
    "plt.axis('off')"
   ]
  },
  {
   "cell_type": "code",
   "execution_count": null,
   "id": "13384506",
   "metadata": {},
   "outputs": [],
   "source": [
    "#Image registration by 12 global and 1 local transform parameters\n",
    "#modify parameters \n",
    "#reference: https://simpleelastix.readthedocs.io/ParameterMaps.html\n",
    "\n",
    "#create transform_map folder\n",
    "transform_map_path = \"./image_registration_demo/transform_map\"\n",
    "if not os.path.exists(transform_map_path):\n",
    "    os.makedirs(transform_map_path)\n",
    "\n",
    "#registration\n",
    "fixedImage = sitk.ReadImage(\"./image_registration_demo/ref_b0607.tif\")\n",
    "movingImage = sitk.ReadImage(\"./image_registration_demo/cfos_b0044.tif\")\n",
    "\n",
    "parameterMapVector = sitk.GetDefaultParameterMap('affine')\n",
    "parameterMapVector2 =sitk.GetDefaultParameterMap('translation')\n",
    "parameterMapVector3 = sitk.GetDefaultParameterMap('bspline')\n",
    "\n",
    "parameterMapVector2['MaximumNumberOfIterations'] = ['8192']\n",
    "parameterMapVector2['NumberOfResolutions'] = ['5']\n",
    "parameterMapVector2['FixedImagePyramidSchedule']=['16','16','8','8','4','4','2','2','1','1']\n",
    "parameterMapVector2['MovingImagePyramidSchedule']=['16','16','8','8','4','4','2','2','1','1']\n",
    "parameterMapVector2['FinalBSplineInterpolationOrder'] = ['2']\n",
    "parameterMapVector2['Interpolator'] = ['NearestNeighborInterpolator']\n",
    "parameterMapVector2['FinalGridSpacingInPhysicalUnits'] = ['80']\n",
    "\n",
    "parameterMapVector['MaximumNumberOfIterations'] = ['8192']\n",
    "parameterMapVector2['NumberOfResolutions'] = ['5']\n",
    "parameterMapVector['FixedImagePyramidSchedule']=['16','16','8','8','4','4','2','2','1','1']\n",
    "parameterMapVector['MovingImagePyramidSchedule']=['16','16','8','8','4','4','2','2','1','1']\n",
    "parameterMapVector['FinalBSplineInterpolationOrder'] = ['2']\n",
    "parameterMapVector['Interpolator'] = ['NearestNeighborInterpolator']\n",
    "parameterMapVector['FinalGridSpacingInPhysicalUnits'] = ['80']\n",
    "\n",
    "parameterMapVector3['MaximumNumberOfIterations'] = ['5000']\n",
    "parameterMapVector2['NumberOfResolutions'] = ['2']\n",
    "parameterMapVector3['FixedImagePyramidSchedule']=['2','1']\n",
    "parameterMapVector3['MovingImagePyramidSchedule']=['2','1']\n",
    "parameterMapVector3['FinalBSplineInterpolationOrder'] = ['2']\n",
    "parameterMapVector3['Interpolator'] = ['NearestNeighborInterpolator']\n",
    "parameterMapVector3['FinalGridSpacingInPhysicalUnits'] = ['80']\n",
    "\n",
    "elastixImageFilter = sitk.ElastixImageFilter()\n",
    "elastixImageFilter.SetParameterMap(parameterMapVector2)\n",
    "elastixImageFilter.AddParameterMap(parameterMapVector)\n",
    "elastixImageFilter.AddParameterMap(parameterMapVector2) \n",
    "elastixImageFilter.AddParameterMap(parameterMapVector)\n",
    "elastixImageFilter.AddParameterMap(parameterMapVector2)\n",
    "elastixImageFilter.AddParameterMap(parameterMapVector)\n",
    "elastixImageFilter.AddParameterMap(parameterMapVector2)\n",
    "elastixImageFilter.AddParameterMap(parameterMapVector)\n",
    "elastixImageFilter.AddParameterMap(parameterMapVector)\n",
    "elastixImageFilter.AddParameterMap(parameterMapVector)\n",
    "elastixImageFilter.AddParameterMap(parameterMapVector)\n",
    "elastixImageFilter.AddParameterMap(parameterMapVector)\n",
    "elastixImageFilter.AddParameterMap(parameterMapVector3)\n",
    "\n",
    "#elastixImageFilter.PrintParameterMap()\n",
    "\n",
    "elastixImageFilter.SetFixedImage(fixedImage)\n",
    "elastixImageFilter.SetMovingImage(movingImage)\n",
    "\n",
    "elastixImageFilter.Execute()\n",
    "transformParameterMap = elastixImageFilter.GetTransformParameterMap()\n",
    "#sitk.PrintParameterMap(transformParameterMap)\n",
    "\n",
    "#save transformparameters\n",
    "for i in np.arange(13):\n",
    "    sitk.WriteParameterFile (transformParameterMap[i], \"./image_registration_demo/transform_map/transformparameter\" +str(i)+\".txt\")"
   ]
  },
  {
   "cell_type": "code",
   "execution_count": 5,
   "id": "973cc6a0",
   "metadata": {},
   "outputs": [
    {
     "ename": "NameError",
     "evalue": "name 'elastixImageFilter' is not defined",
     "output_type": "error",
     "traceback": [
      "\u001b[0;31m---------------------------------------------------------------------------\u001b[0m",
      "\u001b[0;31mNameError\u001b[0m                                 Traceback (most recent call last)",
      "Input \u001b[0;32mIn [5]\u001b[0m, in \u001b[0;36m<cell line: 2>\u001b[0;34m()\u001b[0m\n\u001b[1;32m      1\u001b[0m \u001b[38;5;66;03m#plot registration result\u001b[39;00m\n\u001b[0;32m----> 2\u001b[0m resImg \u001b[38;5;241m=\u001b[39m \u001b[43melastixImageFilter\u001b[49m\u001b[38;5;241m.\u001b[39mGetResultImage()\n\u001b[1;32m      3\u001b[0m resImg_np \u001b[38;5;241m=\u001b[39m sitk\u001b[38;5;241m.\u001b[39mGetArrayFromImage(resImg)\n\u001b[1;32m      4\u001b[0m resImg8bit \u001b[38;5;241m=\u001b[39m resImg_np\u001b[38;5;241m.\u001b[39mastype (\u001b[38;5;124m\"\u001b[39m\u001b[38;5;124muint8\u001b[39m\u001b[38;5;124m\"\u001b[39m)\n",
      "\u001b[0;31mNameError\u001b[0m: name 'elastixImageFilter' is not defined"
     ]
    }
   ],
   "source": [
    "#plot registration result\n",
    "resImg = elastixImageFilter.GetResultImage()\n",
    "resImg_np = sitk.GetArrayFromImage(resImg)\n",
    "resImg8bit = resImg_np.astype (\"uint8\")\n",
    "\n",
    "plt.subplot (1,2,1)\n",
    "merage_ori = np.dstack (((sitk.GetArrayFromImage(movingImage)).astype (\"uint8\"),(sitk.GetArrayFromImage(fixedImage)).astype (\"uint8\"),np.zeros_like (resImg8bit)))\n",
    "plt.imshow (merage_ori)\n",
    "plt.title (\"Red:C-FOS_b; \\nGreen:CCFv3_template_b\")\n",
    "plt.axis('off')\n",
    "\n",
    "plt.subplot (1,2,2)\n",
    "merage = np.dstack ((resImg8bit,(sitk.GetArrayFromImage(fixedImage)).astype (\"uint8\"), np.zeros_like (resImg8bit))) \n",
    "plt.imshow (merage)\n",
    "plt.title (\"Red:C-FOS_b_T; \\nGreen:CCFv3_template_b_T\")\n",
    "plt.axis('off')\n",
    "plt.tight_layout()\n",
    "plt.show()"
   ]
  },
  {
   "cell_type": "code",
   "execution_count": null,
   "id": "e16e3a5d",
   "metadata": {},
   "outputs": [],
   "source": [
    "#apply multiple transform parameters to another channel\n",
    "\n",
    "transformParameterMap_0 = sitk.ReadParameterFile (\"./image_registration_demo/transform_map/transformparameter0.txt\")\n",
    "transformParameterMap_1 = sitk.ReadParameterFile (\"./image_registration_demo/transform_map/transformparameter1.txt\")\n",
    "transformParameterMap_2 = sitk.ReadParameterFile (\"./image_registration_demo/transform_map/transformparameter2.txt\")\n",
    "transformParameterMap_3 = sitk.ReadParameterFile (\"./image_registration_demo/transform_map/transformparameter3.txt\")\n",
    "transformParameterMap_4 = sitk.ReadParameterFile (\"./image_registration_demo/transform_map/transformparameter4.txt\")\n",
    "transformParameterMap_5 = sitk.ReadParameterFile (\"./image_registration_demo/transform_map/transformparameter5.txt\")\n",
    "transformParameterMap_6 = sitk.ReadParameterFile (\"./image_registration_demo/transform_map/transformparameter6.txt\")\n",
    "transformParameterMap_7 = sitk.ReadParameterFile (\"./image_registration_demo/transform_map/transformparameter7.txt\")\n",
    "transformParameterMap_8 = sitk.ReadParameterFile (\"./image_registration_demo/transform_map/transformparameter8.txt\")\n",
    "transformParameterMap_9 = sitk.ReadParameterFile (\"./image_registration_demo/transform_map/transformparameter9.txt\")\n",
    "transformParameterMap_10 = sitk.ReadParameterFile (\"./image_registration_demo/transform_map/transformparameter10.txt\")\n",
    "transformParameterMap_11 = sitk.ReadParameterFile (\"./image_registration_demo/transform_map/transformparameter11.txt\")\n",
    "transformParameterMap_12 = sitk.ReadParameterFile (\"./image_registration_demo/transform_map/transformparameter12.txt\")\n",
    "\n",
    "transformixImageFilter = sitk.TransformixImageFilter()\n",
    "transformixImageFilter.SetTransformParameterMap (transformParameterMap_0)\n",
    "transformixImageFilter.AddTransformParameterMap (transformParameterMap_1)\n",
    "transformixImageFilter.AddTransformParameterMap (transformParameterMap_2)\n",
    "transformixImageFilter.AddTransformParameterMap (transformParameterMap_3)\n",
    "transformixImageFilter.AddTransformParameterMap (transformParameterMap_4)\n",
    "transformixImageFilter.AddTransformParameterMap (transformParameterMap_5)\n",
    "transformixImageFilter.AddTransformParameterMap (transformParameterMap_6)\n",
    "transformixImageFilter.AddTransformParameterMap (transformParameterMap_7)\n",
    "transformixImageFilter.AddTransformParameterMap (transformParameterMap_8)\n",
    "transformixImageFilter.AddTransformParameterMap (transformParameterMap_9)\n",
    "transformixImageFilter.AddTransformParameterMap (transformParameterMap_10)\n",
    "transformixImageFilter.AddTransformParameterMap (transformParameterMap_11)\n",
    "transformixImageFilter.AddTransformParameterMap (transformParameterMap_12)\n",
    "\n",
    "oChIEF = sitk.ReadImage(\"./image_registration_demo/oChIEF0044.tif\")\n",
    "transformixImageFilter.SetMovingImage (oChIEF)\n",
    "transformixImageFilter.Execute()\n",
    "\n",
    "oChIEF_T = transformixImageFilter.GetResultImage()\n",
    "oChIEF_T_img = sitk.GetArrayFromImage(oChIEF_T)\n",
    "\n",
    "plt.subplot(1,2,1)\n",
    "plt.imshow(sitk.GetArrayFromImage(oChIEF), vmax = 5000)\n",
    "plt.title(\"oChIEF_img\")\n",
    "plt.axis('off')\n",
    "plt.subplot(1,2,2)\n",
    "plt.imshow(oChIEF_T_img, vmax = 5000)\n",
    "plt.title(\"oChIEF_img_T\")\n",
    "plt.axis('off')"
   ]
  }
 ],
 "metadata": {
  "kernelspec": {
   "display_name": "Python 3 (ipykernel)",
   "language": "python",
   "name": "python3"
  },
  "language_info": {
   "codemirror_mode": {
    "name": "ipython",
    "version": 3
   },
   "file_extension": ".py",
   "mimetype": "text/x-python",
   "name": "python",
   "nbconvert_exporter": "python",
   "pygments_lexer": "ipython3",
   "version": "3.8.13"
  }
 },
 "nbformat": 4,
 "nbformat_minor": 5
}
